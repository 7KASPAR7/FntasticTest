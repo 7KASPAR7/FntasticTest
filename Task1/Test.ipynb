{
  "metadata": {
    "kernelspec": {
      "name": "python",
      "display_name": "Python (Pyodide)",
      "language": "python"
    },
    "language_info": {
      "codemirror_mode": {
        "name": "python",
        "version": 3
      },
      "file_extension": ".py",
      "mimetype": "text/x-python",
      "name": "python",
      "nbconvert_exporter": "python",
      "pygments_lexer": "ipython3",
      "version": "3.8"
    }
  },
  "nbformat_minor": 5,
  "nbformat": 4,
  "cells": [
    {
      "cell_type": "code",
      "source": "def transform_string(input):\n    result = \"\"\n    input = input.lower()\n    for symbol in input: \n        if input.count(symbol) == 1:\n            result += '('\n        else: \n            result += ')'\n    print(\"output: \", result)\n    \n    \n    \ndef test(): \n    \n    print(\"test1\")\n    str1 = \"din\"\n    print(\"input: \", str1)\n    transform_string(str1)\n    print(\"correct output: (((\")\n    print()\n    \n    print(\"test2\")\n    str2 = \"recede\"\n    print(\"input: \", str2)\n    transform_string(str2)\n    print(\"correct output: ()()()\")\n    print()\n    \n    print(\"test3\")\n    str3 = \"Success\"\n    print(\"input: \", str3)\n    transform_string(str3)\n    print(\"correct output: )())())\")\n    print()\n    \n    print(\"test4\")\n    str4 = \"(( @\"\n    print(\"input: \", str4)\n    transform_string(str4)\n    print(\"correct output: ))((\")\n    print()\n    \n    print(\"own test\")\n    str5 = \"INDiVIDUAL QUalITIES\"\n    print(\"input: \", str5)\n    transform_string(str5)\n    \ntest()",
      "metadata": {
        "trusted": true
      },
      "execution_count": 20,
      "outputs": [
        {
          "name": "stdout",
          "text": "test1\ninput:  din\noutput:  (((\ncorrect output: (((\n\ntest2\ninput:  recede\noutput:  ()()()\ncorrect output: ()()()\n\ntest3\ninput:  Success\noutput:  )())())\ncorrect output: )())())\n\ntest4\ninput:  (( @\noutput:  ))((\ncorrect output: ))((\n\nown test\ninput:  INDiVIDUAL QUalITIES\noutput:  )())()))))(())))()((\n",
          "output_type": "stream"
        }
      ],
      "id": "af6887d0-6d95-4b08-93cf-66df853dafe3"
    }
  ]
}